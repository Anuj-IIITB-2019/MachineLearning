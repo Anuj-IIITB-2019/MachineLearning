{
 "cells": [
  {
   "cell_type": "code",
   "execution_count": 1,
   "metadata": {},
   "outputs": [],
   "source": [
    "# nltk.download()\n"
   ]
  },
  {
   "cell_type": "code",
   "execution_count": 2,
   "metadata": {
    "_cell_guid": "b1076dfc-b9ad-4769-8c92-a6c4dae69d19",
    "_uuid": "8f2839f25d086af736a60e9eeb907d3b93b6e0e5"
   },
   "outputs": [],
   "source": [
    "# This Python 3 environment comes with many helpful analytics libraries installed\n",
    "# It is defined by the kaggle/python docker image: https://github.com/kaggle/docker-python\n",
    "# For example, here's several helpful packages to load in \n",
    "\n",
    "import numpy as np # linear algebra\n",
    "import pandas as pd # data processing, CSV file I/O (e.g. pd.read_csv)\n",
    "\n",
    "# Input data files are available in the \"../input/\" directory.\n",
    "# For example, running this (by clicking run or pressing Shift+Enter) will list all files under the input directory\n",
    "\n",
    "# import os\n",
    "# for dirname, _, filenames in os.walk('/kaggle/input'):\n",
    "#     for filename in filenames:\n",
    "#         print(os.path.join(dirname, filename))\n",
    "\n",
    "# Any results you write to the current directory are saved as output."
   ]
  },
  {
   "cell_type": "code",
   "execution_count": 3,
   "metadata": {
    "_cell_guid": "79c7e3d0-c299-4dcb-8224-4455121ee9b0",
    "_uuid": "d629ff2d2480ee46fbb7e2d37f6b5fab8052498a"
   },
   "outputs": [],
   "source": [
    "import pandas as pd\n",
    "import matplotlib.pyplot as plt\n",
    "import seaborn as sns\n",
    "import matplotlib.pyplot as plt\n",
    "import seaborn as sns\n",
    "import gc\n",
    "\n",
    "\n",
    "train = pd.read_csv('train.csv')\n",
    "test = pd.read_csv('test.csv')\n",
    "sub = pd.read_csv('a.csv')\n",
    "# print('Number of rows and columns in the train data set:',train.shape)\n",
    "# print('Number of rows and columns in the test data set:',test.shape)\n"
   ]
  },
  {
   "cell_type": "code",
   "execution_count": 4,
   "metadata": {},
   "outputs": [
    {
     "data": {
      "text/plain": [
       "<matplotlib.axes._subplots.AxesSubplot at 0x7f09636269b0>"
      ]
     },
     "execution_count": 4,
     "metadata": {},
     "output_type": "execute_result"
    },
    {
     "data": {
      "image/png": "[encoded data removed]",
      "text/plain": [
       "<Figure size 1152x720 with 6 Axes>"
      ]
     },
     "metadata": {
      "needs_background": "light"
     },
     "output_type": "display_data"
    }
   ],
   "source": [
    "%matplotlib inline\n",
    "seed = 2390\n",
    "train.sample(frac=1)\n",
    "fig,ax = plt.subplots(2,3,figsize=(16,10))\n",
    "ax1,ax2,ax3,ax4,ax5,ax6 = ax.flatten()\n",
    "sns.countplot(train['toxic'],palette= 'magma',ax=ax1)\n",
    "sns.countplot(train['severe_toxic'], palette= 'viridis',ax=ax2)\n",
    "sns.countplot(train['obscene'], palette= 'Set1',ax=ax3)\n",
    "sns.countplot(train['threat'], palette= 'viridis',ax = ax4)\n",
    "sns.countplot(train['insult'], palette = 'magma',ax=ax5)\n",
    "sns.countplot(train['identity_hate'], palette = 'Set1', ax = ax6)\n"
   ]
  },
  {
   "cell_type": "code",
   "execution_count": 5,
   "metadata": {},
   "outputs": [],
   "source": [
    "import re\n",
    "target_labels =['toxic','severe_toxic','obscene','threat','insult','identity_hate']"
   ]
  },
  {
   "cell_type": "code",
   "execution_count": 6,
   "metadata": {},
   "outputs": [],
   "source": [
    "import nltk\n",
    "# nltk.download()\n",
    "w_tokenizer = nltk.tokenize.WhitespaceTokenizer()\n",
    "lemmatizer = nltk.stem.WordNetLemmatizer()\n",
    "\n",
    "def lemmatize_text(text):\n",
    "    return [lemmatizer.lemmatize(w) for w in w_tokenizer.tokenize(text)]"
   ]
  },
  {
   "cell_type": "code",
   "execution_count": 7,
   "metadata": {},
   "outputs": [],
   "source": [
    "lemmatized_trainComment = []\n",
    "for i in range(0,len(train)):\n",
    "    lemmatized_comment = lemmatize_text(train['comment_text'][i])\n",
    "    lemmatized_trainComment.append(lemmatized_comment)\n",
    "train['comment_text'] = pd.Series(lemmatized_trainComment).astype(str)"
   ]
  },
  {
   "cell_type": "code",
   "execution_count": 8,
   "metadata": {},
   "outputs": [],
   "source": [
    "def clean_text(text):\n",
    "    text = text.lower()\n",
    "    text = re.sub(r\"what's\",\"what is\",text)\n",
    "    text = re.sub(r\"\\'ve\",\"have\",text)\n",
    "    text = re.sub(r\"\\'s\",\" \",text)\n",
    "    text = re.sub(r\"can't\", \"cannot\",text)\n",
    "    text = re.sub(r\"\\'d\" ,\"would\",text)\n",
    "    text = re.sub(r\"n't\" ,\"not\",text)\n",
    "    text = re.sub(r\"\\'ll\" ,\"will\",text)\n",
    "    text = re.sub(\"\\W\", \" \",text)\n",
    "    text = re.sub(r\"\\s+\" ,\" \",text) \n",
    "    text = text.strip()\n",
    "    return text"
   ]
  },
  {
   "cell_type": "code",
   "execution_count": 9,
   "metadata": {},
   "outputs": [],
   "source": [
    "cleaned_trainComment = []\n",
    "for i in range(0,len(train)):\n",
    "    cleaned_comment = clean_text(train['comment_text'][i])\n",
    "    cleaned_trainComment.append(cleaned_comment)\n",
    "train['comment_text'] = pd.Series(cleaned_trainComment).astype(str)"
   ]
  },
  {
   "cell_type": "code",
   "execution_count": 10,
   "metadata": {},
   "outputs": [],
   "source": [
    "# from nltk.corpus import stopwords\n",
    "# customStopWords = stopwords('english')\n",
    "\n",
    "# for x in range(ord('b'),ord('z')+1):\n",
    "#     customStopWords.append(chr(x))"
   ]
  },
  {
   "cell_type": "code",
   "execution_count": 11,
   "metadata": {},
   "outputs": [],
   "source": [
    "from sklearn.feature_extraction.text import TfidfVectorizer\n",
    "vect = vect_word = TfidfVectorizer( lowercase=True, analyzer='word',stop_words= 'english',ngram_range=(1,1),dtype=np.float32)\n",
    "x_dtm = vect.fit_transform(train[\"comment_text\"]) \n",
    "test_dtm = vect.transform(test[\"comment_text\"])"
   ]
  },
  {
   "cell_type": "code",
   "execution_count": 12,
   "metadata": {},
   "outputs": [],
   "source": [
    "from sklearn.linear_model import LogisticRegression \n",
    "logreg = LogisticRegression(C=3.5,solver = 'sag')\n",
    "for label in target_labels:\n",
    "    y = train[label]\n",
    "    logreg.fit(x_dtm,y)\n",
    "    y_pred_x = logreg.predict(x_dtm)\n",
    "    test_y_prob = logreg.predict_proba(test_dtm)[:,1]\n",
    "    sub[label]= test_y_prob\n",
    "sub.to_csv(\"submissionNew\",index = False)"
   ]
  },
  {
   "cell_type": "code",
   "execution_count": 13,
   "metadata": {},
   "outputs": [],
   "source": [
    "from sklearn.linear_model import Ridge\n",
    "ridgereg = Ridge(alpha=29,solver='saga',random_state=0,tol=0.0025,fit_intercept=False)\n",
    "for label in target_labels:\n",
    "    y = train[label]\n",
    "    ridgereg.fit(x_dtm,y)\n",
    "    y_pred_x = ridgereg.predict(x_dtm)\n",
    "    test_y_prob = ridgereg.predict(test_dtm)[:]\n",
    "    sub[label]= test_y_prob\n",
    "sub.to_csv(\"submissionNewRidge\",index = False)"
   ]
  },
  {
   "cell_type": "code",
   "execution_count": 14,
   "metadata": {},
   "outputs": [],
   "source": [
    "# k = pd.DataFrame()\n",
    "# k['train'] = train.isnull().sum()\n",
    "# k['tes'] = test.isnull().sum()\n",
    "# k"
   ]
  },
  {
   "cell_type": "code",
   "execution_count": 15,
   "metadata": {},
   "outputs": [],
   "source": [
    "# test.fillna(' ',inplace=True)\n",
    "# gc.collect()"
   ]
  },
  {
   "cell_type": "code",
   "execution_count": 16,
   "metadata": {},
   "outputs": [],
   "source": [
    "# # vect_word.replace('[^a-zA-Z0-9]', ' ', regex = True)\n",
    "# vect_word.fit(list(train['comment_text']) + list(test['comment_text']))\n",
    "# train_tf = vect_word.transform(train['comment_text'])\n",
    "# test_tf = vect_word.transform(test['comment_text'])\n",
    "# gc.collect()"
   ]
  },
  {
   "cell_type": "code",
   "execution_count": 17,
   "metadata": {},
   "outputs": [],
   "source": [
    "# X = train_svd\n",
    "# target_col = ['toxic', 'severe_toxic', 'obscene', 'threat','insult', 'identity_hate']\n",
    "# y = train[target_col]\n",
    "# x_test = test_svd\n",
    "# del train_tf,test_tf,train_svd,test_svd\n",
    "# gc.collect()\n",
    "\n"
   ]
  },
  {
   "cell_type": "code",
   "execution_count": 18,
   "metadata": {},
   "outputs": [
    {
     "ename": "NameError",
     "evalue": "name 'x_test' is not defined",
     "output_type": "error",
     "traceback": [
      "\u001b[0;31m---------------------------------------------------------------------------\u001b[0m",
      "\u001b[0;31mNameError\u001b[0m                                 Traceback (most recent call last)",
      "\u001b[0;32m<ipython-input-18-661e3c039453>\u001b[0m in \u001b[0;36m<module>\u001b[0;34m\u001b[0m\n\u001b[1;32m      1\u001b[0m \u001b[0mlr\u001b[0m \u001b[0;34m=\u001b[0m \u001b[0mLogisticRegression\u001b[0m\u001b[0;34m(\u001b[0m\u001b[0mC\u001b[0m\u001b[0;34m=\u001b[0m\u001b[0;36m4\u001b[0m\u001b[0;34m,\u001b[0m\u001b[0mrandom_state\u001b[0m \u001b[0;34m=\u001b[0m \u001b[0mseed\u001b[0m\u001b[0;34m,\u001b[0m\u001b[0msolver\u001b[0m \u001b[0;34m=\u001b[0m\u001b[0;34m'sag'\u001b[0m\u001b[0;34m)\u001b[0m\u001b[0;34m\u001b[0m\u001b[0;34m\u001b[0m\u001b[0m\n\u001b[0;32m----> 2\u001b[0;31m \u001b[0mprd\u001b[0m \u001b[0;34m=\u001b[0m \u001b[0mnp\u001b[0m\u001b[0;34m.\u001b[0m\u001b[0mzeros\u001b[0m\u001b[0;34m(\u001b[0m\u001b[0;34m(\u001b[0m\u001b[0mlen\u001b[0m\u001b[0;34m(\u001b[0m\u001b[0mx_test\u001b[0m\u001b[0;34m)\u001b[0m\u001b[0;34m,\u001b[0m\u001b[0my\u001b[0m\u001b[0;34m.\u001b[0m\u001b[0mshape\u001b[0m\u001b[0;34m[\u001b[0m\u001b[0;36m1\u001b[0m\u001b[0;34m]\u001b[0m\u001b[0;34m)\u001b[0m\u001b[0;34m)\u001b[0m\u001b[0;34m\u001b[0m\u001b[0;34m\u001b[0m\u001b[0m\n\u001b[0m\u001b[1;32m      3\u001b[0m \u001b[0mcv_score\u001b[0m \u001b[0;34m=\u001b[0m\u001b[0;34m[\u001b[0m\u001b[0;34m]\u001b[0m\u001b[0;34m\u001b[0m\u001b[0;34m\u001b[0m\u001b[0m\n\u001b[1;32m      4\u001b[0m \u001b[0;32mfor\u001b[0m \u001b[0mi\u001b[0m\u001b[0;34m,\u001b[0m\u001b[0mcol\u001b[0m \u001b[0;32min\u001b[0m \u001b[0menumerate\u001b[0m\u001b[0;34m(\u001b[0m \u001b[0my\u001b[0m\u001b[0;34m.\u001b[0m\u001b[0mcolumns\u001b[0m\u001b[0;34m)\u001b[0m\u001b[0;34m:\u001b[0m\u001b[0;34m\u001b[0m\u001b[0;34m\u001b[0m\u001b[0m\n\u001b[1;32m      5\u001b[0m     \u001b[0mprint\u001b[0m\u001b[0;34m(\u001b[0m\u001b[0;34m'Building model for column:'\u001b[0m\u001b[0;34m,\u001b[0m\u001b[0mcol\u001b[0m\u001b[0;34m)\u001b[0m\u001b[0;34m\u001b[0m\u001b[0;34m\u001b[0m\u001b[0m\n",
      "\u001b[0;31mNameError\u001b[0m: name 'x_test' is not defined"
     ]
    }
   ],
   "source": [
    "lr = LogisticRegression(C=4,random_state = seed,solver ='sag')\n",
    "prd = np.zeros((len(x_test),y.shape[1]))\n",
    "cv_score =[]\n",
    "for i,col in enumerate( y.columns):\n",
    "    print('Building model for column:',col) \n",
    "    lr.fit(X,y[col])\n",
    "    #cv_score.append(lr.score)\n",
    "    prd[:,i] = lr.predict_proba(x_test)[:,1]"
   ]
  },
  {
   "cell_type": "code",
   "execution_count": null,
   "metadata": {},
   "outputs": [],
   "source": [
    "\n",
    "#         val = valid[label]\n",
    "#         # train the model using train_data_features & y\n",
    "#         logreg.fit(train_tf, y)\n",
    "#         # compute the training accuracy\n",
    "#         y_pred_X = logreg.predict(train_tf)\n",
    "#         print('Training accuracy is {}'.format(accuracy_score(y, y_pred_X)))\n",
    "#         # Compute validation accuracy\n",
    "#         val_pred = logreg.predict(valid_data_features)\n",
    "#         val_prob = logreg.predict_proba(valid_data_features)[:,1]\n",
    "#         print('Validation accuracy is {}'.format(accuracy_score(val, val_pred)))        \n",
    "#         # compute the predicted probabilities for X_test_dtm\n",
    "#         test_y_prob = logreg.predict_proba(test_tf)[:,1]\n",
    "#         logistic_results[label] = test_y_prob\n",
    "#         logistic_valid[label] = val_prob"
   ]
  },
  {
   "cell_type": "code",
   "execution_count": null,
   "metadata": {},
   "outputs": [],
   "source": [
    "pred =  lr.predict(X)\n",
    "pd.set_option('display.max_columns', None)"
   ]
  },
  {
   "cell_type": "code",
   "execution_count": null,
   "metadata": {},
   "outputs": [],
   "source": [
    "# prd_1 = pd.DataFrame(prd,columns=y.columns)\n",
    "# submit = pd.concat([test['id'],prd_1],axis=1)\n",
    "# #submit.to_csv('toxic_lr.csv.gz',compression='gzip',index=False)\n",
    "# submit.to_csv('t2',index=False)\n",
    "# submit"
   ]
  }
 ],
 "metadata": {
  "kernelspec": {
   "display_name": "Python 3",
   "language": "python",
   "name": "python3"
  },
  "language_info": {
   "codemirror_mode": {
    "name": "ipython",
    "version": 3
   },
   "file_extension": ".py",
   "mimetype": "text/x-python",
   "name": "python",
   "nbconvert_exporter": "python",
   "pygments_lexer": "ipython3",
   "version": "3.6.8"
  }
 },
 "nbformat": 4,
 "nbformat_minor": 1
}
